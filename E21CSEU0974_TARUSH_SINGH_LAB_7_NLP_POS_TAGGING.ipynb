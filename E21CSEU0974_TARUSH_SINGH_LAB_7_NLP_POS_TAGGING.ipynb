{
  "nbformat": 4,
  "nbformat_minor": 0,
  "metadata": {
    "colab": {
      "provenance": [],
      "authorship_tag": "ABX9TyNQ23XlKoxBvLMDhFdBXaDf",
      "include_colab_link": true
    },
    "kernelspec": {
      "name": "python3",
      "display_name": "Python 3"
    },
    "language_info": {
      "name": "python"
    },
    "accelerator": "TPU"
  },
  "cells": [
    {
      "cell_type": "markdown",
      "metadata": {
        "id": "view-in-github",
        "colab_type": "text"
      },
      "source": [
        "<a href=\"https://colab.research.google.com/github/tarushsingh09/POS-TAGGING/blob/main/E21CSEU0974_TARUSH_SINGH_LAB_7_NLP_POS_TAGGING.ipynb\" target=\"_parent\"><img src=\"https://colab.research.google.com/assets/colab-badge.svg\" alt=\"Open In Colab\"/></a>"
      ]
    },
    {
      "cell_type": "markdown",
      "source": [
        "#E21CSEU0974\n",
        "#TARUSH SINGH\n",
        "#EB-13\n",
        "#NATURAL LANGUAGE PROCESSING (NLP) LAB 8\n",
        "#LAB: Lab Assignment 08 – Part-of-Speech Tagging"
      ],
      "metadata": {
        "id": "-Gc9kZer429e"
      }
    },
    {
      "cell_type": "markdown",
      "source": [
        "#Install tensorflow and nltk"
      ],
      "metadata": {
        "id": "7Bc4vuUMsJOV"
      }
    },
    {
      "cell_type": "code",
      "execution_count": 20,
      "metadata": {
        "colab": {
          "base_uri": "https://localhost:8080/",
          "height": 0
        },
        "id": "lEiDfkpdlDOQ",
        "outputId": "0f5474e9-3e7a-4dce-f68e-0545184cd087"
      },
      "outputs": [
        {
          "output_type": "stream",
          "name": "stdout",
          "text": [
            "Requirement already satisfied: tensorflow in /usr/local/lib/python3.10/dist-packages (2.12.0)\n",
            "Requirement already satisfied: absl-py>=1.0.0 in /usr/local/lib/python3.10/dist-packages (from tensorflow) (1.4.0)\n",
            "Requirement already satisfied: astunparse>=1.6.0 in /usr/local/lib/python3.10/dist-packages (from tensorflow) (1.6.3)\n",
            "Requirement already satisfied: flatbuffers>=2.0 in /usr/local/lib/python3.10/dist-packages (from tensorflow) (23.5.26)\n",
            "Requirement already satisfied: gast<=0.4.0,>=0.2.1 in /usr/local/lib/python3.10/dist-packages (from tensorflow) (0.4.0)\n",
            "Requirement already satisfied: google-pasta>=0.1.1 in /usr/local/lib/python3.10/dist-packages (from tensorflow) (0.2.0)\n",
            "Requirement already satisfied: grpcio<2.0,>=1.24.3 in /usr/local/lib/python3.10/dist-packages (from tensorflow) (1.59.0)\n",
            "Requirement already satisfied: h5py>=2.9.0 in /usr/local/lib/python3.10/dist-packages (from tensorflow) (3.9.0)\n",
            "Requirement already satisfied: jax>=0.3.15 in /usr/local/lib/python3.10/dist-packages (from tensorflow) (0.3.25)\n",
            "Requirement already satisfied: keras<2.13,>=2.12.0 in /usr/local/lib/python3.10/dist-packages (from tensorflow) (2.12.0)\n",
            "Requirement already satisfied: libclang>=13.0.0 in /usr/local/lib/python3.10/dist-packages (from tensorflow) (16.0.6)\n",
            "Requirement already satisfied: numpy<1.24,>=1.22 in /usr/local/lib/python3.10/dist-packages (from tensorflow) (1.23.5)\n",
            "Requirement already satisfied: opt-einsum>=2.3.2 in /usr/local/lib/python3.10/dist-packages (from tensorflow) (3.3.0)\n",
            "Requirement already satisfied: packaging in /usr/local/lib/python3.10/dist-packages (from tensorflow) (23.2)\n",
            "Requirement already satisfied: protobuf!=4.21.0,!=4.21.1,!=4.21.2,!=4.21.3,!=4.21.4,!=4.21.5,<5.0.0dev,>=3.20.3 in /usr/local/lib/python3.10/dist-packages (from tensorflow) (3.20.3)\n",
            "Requirement already satisfied: setuptools in /usr/local/lib/python3.10/dist-packages (from tensorflow) (67.7.2)\n",
            "Requirement already satisfied: six>=1.12.0 in /usr/local/lib/python3.10/dist-packages (from tensorflow) (1.16.0)\n",
            "Requirement already satisfied: tensorboard<2.13,>=2.12 in /usr/local/lib/python3.10/dist-packages (from tensorflow) (2.12.0)\n",
            "Requirement already satisfied: tensorflow-estimator<2.13,>=2.12.0 in /usr/local/lib/python3.10/dist-packages (from tensorflow) (2.12.0)\n",
            "Requirement already satisfied: termcolor>=1.1.0 in /usr/local/lib/python3.10/dist-packages (from tensorflow) (2.3.0)\n",
            "Requirement already satisfied: typing-extensions>=3.6.6 in /usr/local/lib/python3.10/dist-packages (from tensorflow) (4.5.0)\n",
            "Requirement already satisfied: wrapt<1.15,>=1.11.0 in /usr/local/lib/python3.10/dist-packages (from tensorflow) (1.14.1)\n",
            "Requirement already satisfied: tensorflow-io-gcs-filesystem>=0.23.1 in /usr/local/lib/python3.10/dist-packages (from tensorflow) (0.34.0)\n",
            "Requirement already satisfied: wheel<1.0,>=0.23.0 in /usr/local/lib/python3.10/dist-packages (from astunparse>=1.6.0->tensorflow) (0.41.2)\n",
            "Requirement already satisfied: scipy>=1.5 in /usr/local/lib/python3.10/dist-packages (from jax>=0.3.15->tensorflow) (1.11.3)\n",
            "Requirement already satisfied: google-auth<3,>=1.6.3 in /usr/local/lib/python3.10/dist-packages (from tensorboard<2.13,>=2.12->tensorflow) (2.17.3)\n",
            "Requirement already satisfied: google-auth-oauthlib<0.5,>=0.4.1 in /usr/local/lib/python3.10/dist-packages (from tensorboard<2.13,>=2.12->tensorflow) (0.4.6)\n",
            "Requirement already satisfied: markdown>=2.6.8 in /usr/local/lib/python3.10/dist-packages (from tensorboard<2.13,>=2.12->tensorflow) (3.4.4)\n",
            "Requirement already satisfied: requests<3,>=2.21.0 in /usr/local/lib/python3.10/dist-packages (from tensorboard<2.13,>=2.12->tensorflow) (2.31.0)\n",
            "Requirement already satisfied: tensorboard-data-server<0.8.0,>=0.7.0 in /usr/local/lib/python3.10/dist-packages (from tensorboard<2.13,>=2.12->tensorflow) (0.7.1)\n",
            "Requirement already satisfied: tensorboard-plugin-wit>=1.6.0 in /usr/local/lib/python3.10/dist-packages (from tensorboard<2.13,>=2.12->tensorflow) (1.8.1)\n",
            "Requirement already satisfied: werkzeug>=1.0.1 in /usr/local/lib/python3.10/dist-packages (from tensorboard<2.13,>=2.12->tensorflow) (3.0.0)\n",
            "Requirement already satisfied: cachetools<6.0,>=2.0.0 in /usr/local/lib/python3.10/dist-packages (from google-auth<3,>=1.6.3->tensorboard<2.13,>=2.12->tensorflow) (5.3.1)\n",
            "Requirement already satisfied: pyasn1-modules>=0.2.1 in /usr/local/lib/python3.10/dist-packages (from google-auth<3,>=1.6.3->tensorboard<2.13,>=2.12->tensorflow) (0.3.0)\n",
            "Requirement already satisfied: rsa<5,>=3.1.4 in /usr/local/lib/python3.10/dist-packages (from google-auth<3,>=1.6.3->tensorboard<2.13,>=2.12->tensorflow) (4.9)\n",
            "Requirement already satisfied: requests-oauthlib>=0.7.0 in /usr/local/lib/python3.10/dist-packages (from google-auth-oauthlib<0.5,>=0.4.1->tensorboard<2.13,>=2.12->tensorflow) (1.3.1)\n",
            "Requirement already satisfied: charset-normalizer<4,>=2 in /usr/local/lib/python3.10/dist-packages (from requests<3,>=2.21.0->tensorboard<2.13,>=2.12->tensorflow) (3.3.0)\n",
            "Requirement already satisfied: idna<4,>=2.5 in /usr/local/lib/python3.10/dist-packages (from requests<3,>=2.21.0->tensorboard<2.13,>=2.12->tensorflow) (3.4)\n",
            "Requirement already satisfied: urllib3<3,>=1.21.1 in /usr/local/lib/python3.10/dist-packages (from requests<3,>=2.21.0->tensorboard<2.13,>=2.12->tensorflow) (2.0.6)\n",
            "Requirement already satisfied: certifi>=2017.4.17 in /usr/local/lib/python3.10/dist-packages (from requests<3,>=2.21.0->tensorboard<2.13,>=2.12->tensorflow) (2023.7.22)\n",
            "Requirement already satisfied: MarkupSafe>=2.1.1 in /usr/local/lib/python3.10/dist-packages (from werkzeug>=1.0.1->tensorboard<2.13,>=2.12->tensorflow) (2.1.3)\n",
            "Requirement already satisfied: pyasn1<0.6.0,>=0.4.6 in /usr/local/lib/python3.10/dist-packages (from pyasn1-modules>=0.2.1->google-auth<3,>=1.6.3->tensorboard<2.13,>=2.12->tensorflow) (0.5.0)\n",
            "Requirement already satisfied: oauthlib>=3.0.0 in /usr/local/lib/python3.10/dist-packages (from requests-oauthlib>=0.7.0->google-auth-oauthlib<0.5,>=0.4.1->tensorboard<2.13,>=2.12->tensorflow) (3.2.2)\n",
            "Requirement already satisfied: nltk in /usr/local/lib/python3.10/dist-packages (3.8.1)\n",
            "Requirement already satisfied: click in /usr/local/lib/python3.10/dist-packages (from nltk) (8.1.7)\n",
            "Requirement already satisfied: joblib in /usr/local/lib/python3.10/dist-packages (from nltk) (1.3.2)\n",
            "Requirement already satisfied: regex>=2021.8.3 in /usr/local/lib/python3.10/dist-packages (from nltk) (2023.6.3)\n",
            "Requirement already satisfied: tqdm in /usr/local/lib/python3.10/dist-packages (from nltk) (4.66.1)\n"
          ]
        }
      ],
      "source": [
        "!pip install tensorflow\n",
        "# or\n",
        "# !pip install torch\n",
        "\n",
        "!pip install nltk\n"
      ]
    },
    {
      "cell_type": "markdown",
      "source": [
        "#Step 1: Import Libraries and Load Dataset"
      ],
      "metadata": {
        "id": "ebOHhxBSpkR5"
      }
    },
    {
      "cell_type": "code",
      "source": [
        "# import necessary libraries\n",
        "import warnings\n",
        "warnings.filterwarnings(\"ignore\")\n",
        "\n",
        "import numpy as np\n",
        "\n",
        "from matplotlib import pyplot as plt\n",
        "\n",
        "from nltk.corpus import brown\n",
        "from nltk.corpus import treebank\n",
        "from nltk.corpus import conll2000\n",
        "\n",
        "import seaborn as sns\n",
        "\n",
        "from gensim.models import KeyedVectors\n",
        "\n",
        "from tensorflow.keras.preprocessing.sequence import pad_sequences\n",
        "from tensorflow.keras.utils import to_categorical\n",
        "from tensorflow.keras import Sequential, Input, Model\n",
        "from tensorflow.keras.layers import Embedding, Dense, TimeDistributed, LSTM, GRU, Bidirectional, SimpleRNN, RNN, Dropout\n",
        "from tensorflow.keras.preprocessing.text import Tokenizer\n",
        "\n",
        "from sklearn.model_selection import train_test_split\n",
        "from sklearn.utils import shuffle"
      ],
      "metadata": {
        "id": "07cLcU29loax"
      },
      "execution_count": 21,
      "outputs": []
    },
    {
      "cell_type": "code",
      "source": [
        "import nltk\n",
        "nltk.download('treebank')\n",
        "nltk.download('brown')\n",
        "nltk.download('conll2000')\n",
        "nltk.download('universal_tagset')\n",
        "\n",
        "# load POS tagged corpora from NLTK\n",
        "treebank_corpus = treebank.tagged_sents(tagset='universal')\n",
        "brown_corpus = brown.tagged_sents(tagset='universal')\n",
        "conll_corpus = conll2000.tagged_sents(tagset='universal')\n",
        "tagged_sentences = treebank_corpus + brown_corpus + conll_corpus"
      ],
      "metadata": {
        "colab": {
          "base_uri": "https://localhost:8080/",
          "height": 0
        },
        "id": "olNTrbE5oNcE",
        "outputId": "79001557-3e68-4c4b-dcb1-8c34c6a84179"
      },
      "execution_count": 22,
      "outputs": [
        {
          "output_type": "stream",
          "name": "stderr",
          "text": [
            "[nltk_data] Downloading package treebank to /root/nltk_data...\n",
            "[nltk_data]   Package treebank is already up-to-date!\n",
            "[nltk_data] Downloading package brown to /root/nltk_data...\n",
            "[nltk_data]   Package brown is already up-to-date!\n",
            "[nltk_data] Downloading package conll2000 to /root/nltk_data...\n",
            "[nltk_data]   Package conll2000 is already up-to-date!\n",
            "[nltk_data] Downloading package universal_tagset to /root/nltk_data...\n",
            "[nltk_data]   Package universal_tagset is already up-to-date!\n"
          ]
        }
      ]
    },
    {
      "cell_type": "code",
      "source": [
        "# let's look at the data\n",
        "tagged_sentences[11]"
      ],
      "metadata": {
        "colab": {
          "base_uri": "https://localhost:8080/",
          "height": 0
        },
        "id": "C1T7y1GMoSsF",
        "outputId": "ce6505bf-2c52-4217-d4c7-6834a1871c1a"
      },
      "execution_count": 23,
      "outputs": [
        {
          "output_type": "execute_result",
          "data": {
            "text/plain": [
              "[('``', '.'),\n",
              " ('We', 'PRON'),\n",
              " ('have', 'VERB'),\n",
              " ('no', 'DET'),\n",
              " ('useful', 'ADJ'),\n",
              " ('information', 'NOUN'),\n",
              " ('on', 'ADP'),\n",
              " ('whether', 'ADP'),\n",
              " ('users', 'NOUN'),\n",
              " ('are', 'VERB'),\n",
              " ('at', 'ADP'),\n",
              " ('risk', 'NOUN'),\n",
              " (',', '.'),\n",
              " (\"''\", '.'),\n",
              " ('said', 'VERB'),\n",
              " ('*T*-1', 'X'),\n",
              " ('James', 'NOUN'),\n",
              " ('A.', 'NOUN'),\n",
              " ('Talcott', 'NOUN'),\n",
              " ('of', 'ADP'),\n",
              " ('Boston', 'NOUN'),\n",
              " (\"'s\", 'PRT'),\n",
              " ('Dana-Farber', 'NOUN'),\n",
              " ('Cancer', 'NOUN'),\n",
              " ('Institute', 'NOUN'),\n",
              " ('.', '.')]"
            ]
          },
          "metadata": {},
          "execution_count": 23
        }
      ]
    },
    {
      "cell_type": "markdown",
      "source": [
        "#Step 2: Data Preprocessing"
      ],
      "metadata": {
        "id": "hTuPIXK6pq5O"
      }
    },
    {
      "cell_type": "code",
      "source": [
        "# Flatten the list of tagged sentences to obtain (word, pos) pairs\n",
        "flat_sentences = [item for sublist in tagged_sentences for item in sublist]\n",
        "\n",
        "# Extract words and POS tags\n",
        "words, pos_tags = zip(*flat_sentences)\n",
        "\n",
        "# Create vocabulary and POS tag set\n",
        "word_vocab = list(set(words))\n",
        "pos_tag_set = list(set(pos_tags))\n",
        "\n",
        "# Create word-to-index and tag-to-index dictionaries\n",
        "word_to_index = {word: i + 1 for i, word in enumerate(word_vocab)}\n",
        "pos_to_index = {pos: i for i, pos in enumerate(pos_tag_set)}\n",
        "\n",
        "# Convert words and POS tags to numerical indices\n",
        "X = [[word_to_index[word] for word, _ in sentence] for sentence in tagged_sentences]\n",
        "y = [[pos_to_index[pos] for _, pos in sentence] for sentence in tagged_sentences]\n",
        "\n",
        "# Pad sequences to have a consistent length\n",
        "X = pad_sequences(X)\n",
        "y = pad_sequences(y, padding='post')\n",
        "\n",
        "# Split the data into training, validation, and test sets\n",
        "X_train, X_temp, y_train, y_temp = train_test_split(X, y, test_size=0.2, random_state=42)\n",
        "X_val, X_test, y_val, y_test = train_test_split(X_temp, y_temp, test_size=0.5, random_state=42)\n"
      ],
      "metadata": {
        "id": "51q1jkSeoIoa"
      },
      "execution_count": 24,
      "outputs": []
    },
    {
      "cell_type": "markdown",
      "source": [
        "#POS Model Architecture"
      ],
      "metadata": {
        "id": "N5oSzMV6pwTW"
      }
    },
    {
      "cell_type": "code",
      "source": [
        "vocab_size = len(word_vocab) + 1\n",
        "embedding_dim = 50\n",
        "input_length = X.shape[1]\n",
        "num_tags = len(pos_tag_set)\n",
        "\n",
        "model = Sequential()\n",
        "model.add(Embedding(input_dim=vocab_size, output_dim=embedding_dim, input_length=input_length))\n",
        "model.add(LSTM(units=100, return_sequences=True))\n",
        "model.add(Dropout(0.2))\n",
        "model.add(TimeDistributed(Dense(num_tags, activation='softmax')))\n",
        "\n",
        "model.compile(optimizer='adam', loss='sparse_categorical_crossentropy', metrics=['accuracy'])\n",
        "model.summary()"
      ],
      "metadata": {
        "colab": {
          "base_uri": "https://localhost:8080/",
          "height": 0
        },
        "id": "bX2B4XtfpAlP",
        "outputId": "f2851a59-84a3-4692-9b42-94719cdc57ed"
      },
      "execution_count": 25,
      "outputs": [
        {
          "output_type": "stream",
          "name": "stdout",
          "text": [
            "Model: \"sequential_3\"\n",
            "_________________________________________________________________\n",
            " Layer (type)                Output Shape              Param #   \n",
            "=================================================================\n",
            " embedding_3 (Embedding)     (None, 271, 50)           3353400   \n",
            "                                                                 \n",
            " lstm_3 (LSTM)               (None, 271, 100)          60400     \n",
            "                                                                 \n",
            " dropout_3 (Dropout)         (None, 271, 100)          0         \n",
            "                                                                 \n",
            " time_distributed_3 (TimeDis  (None, 271, 12)          1212      \n",
            " tributed)                                                       \n",
            "                                                                 \n",
            "=================================================================\n",
            "Total params: 3,415,012\n",
            "Trainable params: 3,415,012\n",
            "Non-trainable params: 0\n",
            "_________________________________________________________________\n"
          ]
        }
      ]
    },
    {
      "cell_type": "markdown",
      "source": [
        "#Model Training"
      ],
      "metadata": {
        "id": "qSmczGLKp3Ll"
      }
    },
    {
      "cell_type": "code",
      "source": [
        "# Train the model\n",
        "history = model.fit(X_train, y_train, validation_data=(X_val, y_val), epochs=5, batch_size=128)"
      ],
      "metadata": {
        "colab": {
          "base_uri": "https://localhost:8080/",
          "height": 0
        },
        "id": "6nTM6aYu769E",
        "outputId": "dd1e7f21-2cd8-46b5-e9b0-23e887b11c2e"
      },
      "execution_count": 28,
      "outputs": [
        {
          "output_type": "stream",
          "name": "stdout",
          "text": [
            "Epoch 1/5\n",
            "452/452 [==============================] - 469s 1s/step - loss: 0.2405 - accuracy: 0.9297 - val_loss: 0.2390 - val_accuracy: 0.9297\n",
            "Epoch 2/5\n",
            "452/452 [==============================] - 469s 1s/step - loss: 0.2404 - accuracy: 0.9297 - val_loss: 0.2390 - val_accuracy: 0.9297\n",
            "Epoch 3/5\n",
            "452/452 [==============================] - 471s 1s/step - loss: 0.2403 - accuracy: 0.9297 - val_loss: 0.2390 - val_accuracy: 0.9298\n",
            "Epoch 4/5\n",
            "452/452 [==============================] - 468s 1s/step - loss: 0.2402 - accuracy: 0.9298 - val_loss: 0.2393 - val_accuracy: 0.9297\n",
            "Epoch 5/5\n",
            "452/452 [==============================] - 471s 1s/step - loss: 0.2399 - accuracy: 0.9298 - val_loss: 0.2385 - val_accuracy: 0.9299\n"
          ]
        }
      ]
    },
    {
      "cell_type": "code",
      "source": [
        "# Visualize training process\n",
        "plt.plot(history.history['accuracy'], label='accuracy')\n",
        "plt.plot(history.history['val_accuracy'], label = 'val_accuracy')\n",
        "plt.xlabel('Epoch')\n",
        "plt.ylabel('Accuracy')\n",
        "plt.legend(loc='lower right')\n",
        "plt.show()"
      ],
      "metadata": {
        "colab": {
          "base_uri": "https://localhost:8080/",
          "height": 449
        },
        "id": "jrl78Mdup0fm",
        "outputId": "45eb46fb-ddc5-488b-cab8-792d36c015fe"
      },
      "execution_count": 29,
      "outputs": [
        {
          "output_type": "display_data",
          "data": {
            "text/plain": [
              "<Figure size 640x480 with 1 Axes>"
            ],
            "image/png": "[encoded data removed]"
          },
          "metadata": {}
        }
      ]
    },
    {
      "cell_type": "markdown",
      "source": [
        "#Model Evaluation"
      ],
      "metadata": {
        "id": "6AUPFzzk3-q5"
      }
    },
    {
      "cell_type": "code",
      "source": [
        "from sklearn.metrics import classification_report, confusion_matrix\n",
        "\n",
        "# Evaluate the model on the test set\n",
        "y_pred_probs = model.predict(X_test)\n",
        "y_pred_classes = np.argmax(y_pred_probs, axis=-1)\n",
        "\n",
        "# Convert numerical indices back to POS tags\n",
        "y_pred_tags = [pos_tag_set[idx] for idx in y_pred_classes.flatten()]\n",
        "y_true_tags = [pos_tag_set[idx] for idx in y_test.flatten()]\n",
        "\n",
        "# Print classification report and confusion matrix\n",
        "print(classification_report(y_true_tags, y_pred_tags))\n",
        "print(confusion_matrix(y_true_tags, y_pred_tags))\n"
      ],
      "metadata": {
        "colab": {
          "base_uri": "https://localhost:8080/",
          "height": 0
        },
        "id": "0xxIbiExreDM",
        "outputId": "1d92fb0b-7746-4179-e4f5-5bff65391aae"
      },
      "execution_count": 30,
      "outputs": [
        {
          "output_type": "stream",
          "name": "stdout",
          "text": [
            "226/226 [==============================] - 23s 97ms/step\n",
            "              precision    recall  f1-score   support\n",
            "\n",
            "           .       0.00      0.00      0.00     19185\n",
            "         ADJ       0.00      0.00      0.00     10923\n",
            "         ADP       0.00      0.00      0.00     18592\n",
            "         ADV       0.95      1.00      0.97   1810803\n",
            "        CONJ       0.00      0.00      0.00      4742\n",
            "         DET       0.22      0.09      0.13     17095\n",
            "        NOUN       0.24      0.31      0.27     38713\n",
            "         NUM       0.00      0.00      0.00      2965\n",
            "        PRON       0.00      0.00      0.00      5854\n",
            "         PRT       0.00      0.00      0.00      4059\n",
            "        VERB       0.25      0.08      0.12     23242\n",
            "           X       0.00      0.00      0.00       718\n",
            "\n",
            "    accuracy                           0.93   1956891\n",
            "   macro avg       0.14      0.12      0.12   1956891\n",
            "weighted avg       0.89      0.93      0.91   1956891\n",
            "\n",
            "[[      0       0       0   13263       0     591    4739       0       0\n",
            "        0     592       0]\n",
            " [      0       0       0    6778       0     279    3428       0       0\n",
            "        0     438       0]\n",
            " [      0       0       0   11718       0     884    5292       0       0\n",
            "        0     698       0]\n",
            " [      0       0       0 1803723       0     624    5858       0       0\n",
            "        0     598       0]\n",
            " [      0       0       0    3206       0     368    1064       0       0\n",
            "        0     104       0]\n",
            " [      0       0       0    9602       0    1610    5196       0       0\n",
            "        0     687       0]\n",
            " [      0       0       0   23711       0    1253   12054       0       0\n",
            "        0    1695       0]\n",
            " [      0       0       0    1953       0     111     792       0       0\n",
            "        0     109       0]\n",
            " [      0       0       0    2711       0     981    1881       0       0\n",
            "        0     281       0]\n",
            " [      0       0       0    2346       0     200    1339       0       0\n",
            "        0     174       0]\n",
            " [      0       0       0   12371       0     309    8729       0       0\n",
            "        0    1833       0]\n",
            " [      0       0       0     520       0      11     175       0       0\n",
            "        0      12       0]]\n"
          ]
        }
      ]
    },
    {
      "cell_type": "markdown",
      "source": [
        "#Fine-Tuning Step - Bidirectional RNN:\n"
      ],
      "metadata": {
        "id": "d_dwBfOW4MG5"
      }
    },
    {
      "cell_type": "code",
      "source": [
        "from tensorflow.keras.layers import Bidirectional\n",
        "\n",
        "# Build a Bidirectional LSTM model\n",
        "model_bidirectional = Sequential()\n",
        "model_bidirectional.add(Embedding(input_dim=vocab_size, output_dim=embedding_dim, input_length=input_length))\n",
        "model_bidirectional.add(Bidirectional(LSTM(units=100, return_sequences=True)))\n",
        "model_bidirectional.add(Dropout(0.2))\n",
        "model_bidirectional.add(TimeDistributed(Dense(num_tags, activation='softmax')))\n",
        "\n",
        "model_bidirectional.compile(optimizer='adam', loss='sparse_categorical_crossentropy', metrics=['accuracy'])\n",
        "model_bidirectional.summary()"
      ],
      "metadata": {
        "colab": {
          "base_uri": "https://localhost:8080/",
          "height": 0
        },
        "id": "EJfbAOzF8FU8",
        "outputId": "437c5aa7-c000-446d-8701-4f932d830dd7"
      },
      "execution_count": 31,
      "outputs": [
        {
          "output_type": "stream",
          "name": "stdout",
          "text": [
            "Model: \"sequential_4\"\n",
            "_________________________________________________________________\n",
            " Layer (type)                Output Shape              Param #   \n",
            "=================================================================\n",
            " embedding_4 (Embedding)     (None, 271, 50)           3353400   \n",
            "                                                                 \n",
            " bidirectional_2 (Bidirectio  (None, 271, 200)         120800    \n",
            " nal)                                                            \n",
            "                                                                 \n",
            " dropout_4 (Dropout)         (None, 271, 200)          0         \n",
            "                                                                 \n",
            " time_distributed_4 (TimeDis  (None, 271, 12)          2412      \n",
            " tributed)                                                       \n",
            "                                                                 \n",
            "=================================================================\n",
            "Total params: 3,476,612\n",
            "Trainable params: 3,476,612\n",
            "Non-trainable params: 0\n",
            "_________________________________________________________________\n"
          ]
        }
      ]
    },
    {
      "cell_type": "code",
      "source": [
        "# Train the Bidirectional LSTM model\n",
        "history_bidirectional = model_bidirectional.fit(X_train, y_train, validation_data=(X_val, y_val), epochs=5, batch_size=128)"
      ],
      "metadata": {
        "colab": {
          "base_uri": "https://localhost:8080/",
          "height": 0
        },
        "id": "rYNSEaw1zKBn",
        "outputId": "e85b926f-dc0a-4120-8b3e-6882542e3ded"
      },
      "execution_count": null,
      "outputs": [
        {
          "metadata": {
            "tags": null
          },
          "name": "stdout",
          "output_type": "stream",
          "text": [
            "Epoch 1/5\n",
            "452/452 [==============================] - 884s 2s/step - loss: 0.2988 - accuracy: 0.9266 - val_loss: 0.2401 - val_accuracy: 0.9297\n",
            "Epoch 2/5\n",
            "452/452 [==============================] - 857s 2s/step - loss: 0.2423 - accuracy: 0.9296 - val_loss: 0.2400 - val_accuracy: 0.9297\n",
            "Epoch 3/5\n",
            "452/452 [==============================] - 868s 2s/step - loss: 0.2417 - accuracy: 0.9296 - val_loss: 0.2406 - val_accuracy: 0.9297\n",
            "Epoch 4/5\n",
            "452/452 [==============================] - 865s 2s/step - loss: 0.2414 - accuracy: 0.9296 - val_loss: 0.2399 - val_accuracy: 0.9297\n",
            "Epoch 5/5\n",
            "452/452 [==============================] - 874s 2s/step - loss: 0.2410 - accuracy: 0.9297 - val_loss: 0.2395 - val_accuracy: 0.9297\n"
          ]
        }
      ]
    },
    {
      "cell_type": "code",
      "source": [
        "# Visualize training process\n",
        "plt.plot(history_bidirectional.history['accuracy'], label='accuracy')\n",
        "plt.plot(history_bidirectional.history['val_accuracy'], label='val_accuracy')\n",
        "plt.xlabel('Epoch')\n",
        "plt.ylabel('Accuracy')\n",
        "plt.legend(loc='lower right')\n",
        "plt.show()\n",
        "\n",
        "# Evaluate the Bidirectional LSTM model on the test set\n",
        "y_pred_probs_bidirectional = model_bidirectional.predict(X_test)\n",
        "y_pred_classes_bidirectional = np.argmax(y_pred_probs_bidirectional, axis=-1)\n",
        "\n",
        "# Convert numerical indices back to POS tags\n",
        "y_pred_tags_bidirectional = [pos_tag_set[idx] for idx in y_pred_classes_bidirectional.flatten()]\n",
        "y_true_tags_bidirectional = [pos_tag_set[idx] for idx in y_test.flatten()]\n",
        "\n",
        "# Print classification report and confusion matrix for the Bidirectional LSTM model\n",
        "print(\"Bidirectional LSTM Model:\")\n",
        "print(classification_report(y_true_tags_bidirectional, y_pred_tags_bidirectional))\n",
        "print(confusion_matrix(y_true_tags_bidirectional, y_pred_tags_bidirectional))\n"
      ],
      "metadata": {
        "colab": {
          "base_uri": "https://localhost:8080/",
          "height": 1230
        },
        "id": "7OwZVf8p7_ip",
        "outputId": "1b0c692b-1f35-4d17-f40a-26f67cbf9037"
      },
      "execution_count": 34,
      "outputs": [
        {
          "output_type": "display_data",
          "data": {
            "text/plain": [
              "<Figure size 640x480 with 1 Axes>"
            ],
            "image/png": "[encoded data removed]"
          },
          "metadata": {}
        },
        {
          "output_type": "stream",
          "name": "stdout",
          "text": [
            "226/226 [==============================] - 37s 146ms/step\n",
            "Bidirectional LSTM Model:\n",
            "              precision    recall  f1-score   support\n",
            "\n",
            "           .       0.00      0.00      0.00     19185\n",
            "         ADJ       0.00      0.00      0.00     10923\n",
            "         ADP       0.00      0.00      0.00     18592\n",
            "         ADV       0.95      1.00      0.97   1810803\n",
            "        CONJ       0.00      0.00      0.00      4742\n",
            "         DET       0.00      0.00      0.00     17095\n",
            "        NOUN       0.23      0.39      0.29     38713\n",
            "         NUM       0.00      0.00      0.00      2965\n",
            "        PRON       0.00      0.00      0.00      5854\n",
            "         PRT       0.00      0.00      0.00      4059\n",
            "        VERB       0.00      0.00      0.00     23242\n",
            "           X       0.00      0.00      0.00       718\n",
            "\n",
            "    accuracy                           0.93   1956891\n",
            "   macro avg       0.10      0.12      0.11   1956891\n",
            "weighted avg       0.89      0.93      0.91   1956891\n",
            "\n",
            "[[      0       0       0   13263       0       0    5922       0       0\n",
            "        0       0       0]\n",
            " [      0       0       0    6778       0       0    4145       0       0\n",
            "        0       0       0]\n",
            " [      0       0       0   11718       0       0    6874       0       0\n",
            "        0       0       0]\n",
            " [      0       0       0 1803723       0       0    7080       0       0\n",
            "        0       0       0]\n",
            " [      0       0       0    3206       0       0    1536       0       0\n",
            "        0       0       0]\n",
            " [      0       0       0    9602       0       0    7493       0       0\n",
            "        0       0       0]\n",
            " [      0       0       0   23711       0       0   15002       0       0\n",
            "        0       0       0]\n",
            " [      0       0       0    1953       0       0    1012       0       0\n",
            "        0       0       0]\n",
            " [      0       0       0    2711       0       0    3143       0       0\n",
            "        0       0       0]\n",
            " [      0       0       0    2346       0       0    1713       0       0\n",
            "        0       0       0]\n",
            " [      0       0       0   12371       0       0   10871       0       0\n",
            "        0       0       0]\n",
            " [      0       0       0     520       0       0     198       0       0\n",
            "        0       0       0]]\n"
          ]
        }
      ]
    },
    {
      "cell_type": "markdown",
      "source": [
        "#Fine-Tuning Step - Pre-trained Word Embeddings:\n"
      ],
      "metadata": {
        "id": "8u9PWXTM4RcP"
      }
    },
    {
      "cell_type": "code",
      "source": [
        "# Download GloVe embeddings (50-dimensional version for demonstration purposes)\n",
        "!wget http://nlp.stanford.edu/data/glove.6B.zip\n",
        "!unzip glove.6B.zip\n",
        "\n",
        "# Define the create_embedding_matrix function\n",
        "def create_embedding_matrix(filepath, word_index, embedding_dim):\n",
        "    vocab_size = len(word_index) + 1\n",
        "    embedding_matrix = np.zeros((vocab_size, embedding_dim))\n",
        "\n",
        "    with open(filepath, encoding='utf-8') as f:\n",
        "        for line in f:\n",
        "            word, *vector = line.split()\n",
        "            if word in word_index:\n",
        "                idx = word_index[word]\n",
        "                embedding_matrix[idx] = np.array(vector, dtype=np.float32)[:embedding_dim]\n",
        "\n",
        "    return embedding_matrix\n",
        "\n",
        "# Load GloVe embeddings into an embedding matrix\n",
        "embedding_matrix = create_embedding_matrix('glove.6B.50d.txt', word_to_index, embedding_dim)\n",
        "\n",
        "# Build a model with pre-trained word embeddings\n",
        "model_pretrained_embeddings = Sequential()\n",
        "model_pretrained_embeddings.add(Embedding(input_dim=vocab_size, output_dim=embedding_dim, input_length=input_length,\n",
        "                                          weights=[embedding_matrix], trainable=False))\n",
        "model_pretrained_embeddings.add(LSTM(units=100, return_sequences=True))\n",
        "model_pretrained_embeddings.add(Dropout(0.2))\n",
        "model_pretrained_embeddings.add(TimeDistributed(Dense(num_tags, activation='softmax')))\n",
        "\n",
        "model_pretrained_embeddings.compile(optimizer='adam', loss='sparse_categorical_crossentropy', metrics=['accuracy'])\n",
        "model_pretrained_embeddings.summary()"
      ],
      "metadata": {
        "colab": {
          "base_uri": "https://localhost:8080/",
          "height": 0
        },
        "id": "J2I9vcaU8Sth",
        "outputId": "6ea866f6-eab8-40bf-c273-bcb32befa0e5"
      },
      "execution_count": 36,
      "outputs": [
        {
          "output_type": "stream",
          "name": "stdout",
          "text": [
            "--2023-10-09 13:08:43--  http://nlp.stanford.edu/data/glove.6B.zip\n",
            "Resolving nlp.stanford.edu (nlp.stanford.edu)... 171.64.67.140\n",
            "Connecting to nlp.stanford.edu (nlp.stanford.edu)|171.64.67.140|:80... connected.\n",
            "HTTP request sent, awaiting response... 302 Found\n",
            "Location: https://nlp.stanford.edu/data/glove.6B.zip [following]\n",
            "--2023-10-09 13:08:43--  https://nlp.stanford.edu/data/glove.6B.zip\n",
            "Connecting to nlp.stanford.edu (nlp.stanford.edu)|171.64.67.140|:443... connected.\n",
            "HTTP request sent, awaiting response... 301 Moved Permanently\n",
            "Location: https://downloads.cs.stanford.edu/nlp/data/glove.6B.zip [following]\n",
            "--2023-10-09 13:08:43--  https://downloads.cs.stanford.edu/nlp/data/glove.6B.zip\n",
            "Resolving downloads.cs.stanford.edu (downloads.cs.stanford.edu)... 171.64.64.22\n",
            "Connecting to downloads.cs.stanford.edu (downloads.cs.stanford.edu)|171.64.64.22|:443... connected.\n",
            "HTTP request sent, awaiting response... 200 OK\n",
            "Length: 862182613 (822M) [application/zip]\n",
            "Saving to: ‘glove.6B.zip.1’\n",
            "\n",
            "glove.6B.zip.1      100%[===================>] 822.24M  5.01MB/s    in 2m 39s  \n",
            "\n",
            "2023-10-09 13:11:22 (5.18 MB/s) - ‘glove.6B.zip.1’ saved [862182613/862182613]\n",
            "\n",
            "Archive:  glove.6B.zip\n",
            "replace glove.6B.50d.txt? [y]es, [n]o, [A]ll, [N]one, [r]ename: Model: \"sequential_5\"\n",
            "_________________________________________________________________\n",
            " Layer (type)                Output Shape              Param #   \n",
            "=================================================================\n",
            " embedding_5 (Embedding)     (None, 271, 50)           3353400   \n",
            "                                                                 \n",
            " lstm_5 (LSTM)               (None, 271, 100)          60400     \n",
            "                                                                 \n",
            " dropout_5 (Dropout)         (None, 271, 100)          0         \n",
            "                                                                 \n",
            " time_distributed_5 (TimeDis  (None, 271, 12)          1212      \n",
            " tributed)                                                       \n",
            "                                                                 \n",
            "=================================================================\n",
            "Total params: 3,415,012\n",
            "Trainable params: 61,612\n",
            "Non-trainable params: 3,353,400\n",
            "_________________________________________________________________\n"
          ]
        }
      ]
    },
    {
      "cell_type": "code",
      "source": [
        "# Train the model with pre-trained embeddings\n",
        "history_pretrained_embeddings = model_pretrained_embeddings.fit(X_train, y_train, validation_data=(X_val, y_val), epochs=5, batch_size=128)"
      ],
      "metadata": {
        "colab": {
          "base_uri": "https://localhost:8080/",
          "height": 0
        },
        "id": "y70HLy82z7FD",
        "outputId": "b18a0cfc-c9d5-49ae-a1aa-721352ee1abb"
      },
      "execution_count": 37,
      "outputs": [
        {
          "output_type": "stream",
          "name": "stdout",
          "text": [
            "Epoch 1/5\n",
            "452/452 [==============================] - 416s 911ms/step - loss: 0.3166 - accuracy: 0.9256 - val_loss: 0.2459 - val_accuracy: 0.9269\n",
            "Epoch 2/5\n",
            "452/452 [==============================] - 412s 912ms/step - loss: 0.2455 - accuracy: 0.9285 - val_loss: 0.2419 - val_accuracy: 0.9295\n",
            "Epoch 3/5\n",
            "452/452 [==============================] - 419s 928ms/step - loss: 0.2433 - accuracy: 0.9296 - val_loss: 0.2406 - val_accuracy: 0.9297\n",
            "Epoch 4/5\n",
            "452/452 [==============================] - 416s 921ms/step - loss: 0.2422 - accuracy: 0.9297 - val_loss: 0.2404 - val_accuracy: 0.9297\n",
            "Epoch 5/5\n",
            "452/452 [==============================] - 419s 928ms/step - loss: 0.2418 - accuracy: 0.9297 - val_loss: 0.2405 - val_accuracy: 0.9297\n"
          ]
        }
      ]
    },
    {
      "cell_type": "code",
      "source": [
        "# Visualize training process\n",
        "plt.plot(history_pretrained_embeddings.history['accuracy'], label='accuracy')\n",
        "plt.plot(history_pretrained_embeddings.history['val_accuracy'], label='val_accuracy')\n",
        "plt.xlabel('Epoch')\n",
        "plt.ylabel('Accuracy')\n",
        "plt.legend(loc='lower right')\n",
        "plt.show()\n",
        "\n",
        "# Evaluate the model with pre-trained embeddings on the test set\n",
        "y_pred_probs_pretrained_embeddings = model_pretrained_embeddings.predict(X_test)\n",
        "y_pred_classes_pretrained_embeddings = np.argmax(y_pred_probs_pretrained_embeddings, axis=-1)\n",
        "\n",
        "# Convert numerical indices back to POS tags\n",
        "y_pred_tags_pretrained_embeddings = [pos_tag_set[idx] for idx in y_pred_classes_pretrained_embeddings.flatten()]\n",
        "y_true_tags_pretrained_embeddings = [pos_tag_set[idx] for idx in y_test.flatten()]\n",
        "\n",
        "\n",
        "# Print classification report and confusion matrix for the model with pre-trained embeddings\n",
        "print(\"Model with Pre-trained Embeddings:\")\n",
        "print(classification_report(y_true_tags_pretrained_embeddings, y_pred_tags_pretrained_embeddings))\n",
        "print(confusion_matrix(y_true_tags_pretrained_embeddings, y_pred_tags_pretrained_embeddings))\n"
      ],
      "metadata": {
        "colab": {
          "base_uri": "https://localhost:8080/",
          "height": 1230
        },
        "id": "KA1Q_-Xo8XhB",
        "outputId": "c7110d5b-d4a2-45fb-d604-7edfc1630517"
      },
      "execution_count": 39,
      "outputs": [
        {
          "output_type": "display_data",
          "data": {
            "text/plain": [
              "<Figure size 640x480 with 1 Axes>"
            ],
            "image/png": "[encoded data removed]"
          },
          "metadata": {}
        },
        {
          "output_type": "stream",
          "name": "stdout",
          "text": [
            "226/226 [==============================] - 22s 92ms/step\n",
            "Model with Pre-trained Embeddings:\n",
            "              precision    recall  f1-score   support\n",
            "\n",
            "           .       0.00      0.00      0.00     19185\n",
            "         ADJ       0.00      0.00      0.00     10923\n",
            "         ADP       0.00      0.00      0.00     18592\n",
            "         ADV       0.96      1.00      0.98   1810803\n",
            "        CONJ       0.00      0.00      0.00      4742\n",
            "         DET       0.00      0.00      0.00     17095\n",
            "        NOUN       0.23      0.43      0.30     38713\n",
            "         NUM       0.00      0.00      0.00      2965\n",
            "        PRON       0.00      0.00      0.00      5854\n",
            "         PRT       0.00      0.00      0.00      4059\n",
            "        VERB       0.00      0.00      0.00     23242\n",
            "           X       0.00      0.00      0.00       718\n",
            "\n",
            "    accuracy                           0.93   1956891\n",
            "   macro avg       0.10      0.12      0.11   1956891\n",
            "weighted avg       0.89      0.93      0.91   1956891\n",
            "\n",
            "[[      0       0       0   12467       0       0    6718       0       0\n",
            "        0       0       0]\n",
            " [      0       0       0    6367       0       0    4556       0       0\n",
            "        0       0       0]\n",
            " [      0       0       0   10942       0       0    7650       0       0\n",
            "        0       0       0]\n",
            " [      0       0       0 1802187       0       0    8616       0       0\n",
            "        0       0       0]\n",
            " [      0       0       0    3020       0       0    1722       0       0\n",
            "        0       0       0]\n",
            " [      0       0       0    8992       0       0    8103       0       0\n",
            "        0       0       0]\n",
            " [      0       0       0   22147       0       0   16566       0       0\n",
            "        0       0       0]\n",
            " [      0       0       0    1841       0       0    1124       0       0\n",
            "        0       0       0]\n",
            " [      0       0       0    2539       0       0    3315       0       0\n",
            "        0       0       0]\n",
            " [      0       0       0    2175       0       0    1884       0       0\n",
            "        0       0       0]\n",
            " [      0       0       0   11513       0       0   11729       0       0\n",
            "        0       0       0]\n",
            " [      0       0       0     491       0       0     227       0       0\n",
            "        0       0       0]]\n"
          ]
        }
      ]
    }
  ]
}